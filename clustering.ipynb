{
  "nbformat": 4,
  "nbformat_minor": 0,
  "metadata": {
    "colab": {
      "provenance": [],
      "mount_file_id": "https://gist.github.com/dhaev/bcd58c041cfb0b3ca8b3c112463fbef6#file-clustering-ipynb",
      "authorship_tag": "ABX9TyNTGit3mOBonStPYOi83p9s",
      "include_colab_link": true
    },
    "kernelspec": {
      "name": "python3",
      "display_name": "Python 3"
    },
    "language_info": {
      "name": "python"
    }
  },
  "cells": [
    {
      "cell_type": "markdown",
      "metadata": {
        "id": "view-in-github",
        "colab_type": "text"
      },
      "source": [
        "<a href=\"https://colab.research.google.com/github/dhaev/Machine_Learning/blob/main/clustering.ipynb\" target=\"_parent\"><img src=\"https://colab.research.google.com/assets/colab-badge.svg\" alt=\"Open In Colab\"/></a>"
      ]
    },
    {
      "cell_type": "markdown",
      "source": [
        "# KMeans and Agglomerative Clustering\n",
        "\n",
        "This notebook demonstrates the use of KMeans and Agglomerative Clustering on the Ecoli dataset.\n"
      ],
      "metadata": {
        "id": "gGC4RevWRgo1"
      }
    },
    {
      "cell_type": "code",
      "execution_count": null,
      "metadata": {
        "id": "qeQMzSTJL0p6"
      },
      "outputs": [],
      "source": [
        "# Import necessary libraries\n",
        "import pandas as pd\n",
        "import numpy as np\n",
        "from sklearn.cluster import KMeans, AgglomerativeClustering\n",
        "from sklearn import metrics\n",
        "from sklearn.pipeline import make_pipeline\n",
        "from sklearn.preprocessing import StandardScaler\n",
        "from time import time"
      ]
    },
    {
      "cell_type": "markdown",
      "source": [
        "### **Dataset**\n",
        "> This notebook uses an imbalanced dataset referred to as 'Ecoli' or 'Protein Localization Sites' dataset from the UCI repository [here](https://colab.research.google.com/github/dhaev/Machine_Learning/blob/main/clustering.ipynb#scrollTo=k7ujlGsP9TZy). We will first perform clustering with the highly under-represented classes and then perform clustering after removing the highly under-represented classes from the dataset.\n",
        "\n",
        "1. **Title**: Ecoli (Protein Localization Sites).\n",
        "\n",
        "2. **Creator and Maintainer**:\n",
        "   - Kenta Nakai\n",
        "     - Institute of Molecular and Cellular Biology\n",
        "     - Osaka University\n",
        "     - 1-3 Yamada-oka, Suita 565 Japan\n",
        "     - [nakai@imcb.osaka-u.ac.jp](mailto:nakai@imcb.osaka-u.ac.jp)\n",
        "     - [Website](http://www.imcb.osaka-u.ac.jp/nakai/psort.html)\n",
        "   - Donor: Paul Horton ([paulh@cs.berkeley.edu](mailto:paulh@cs.berkeley.edu))\n",
        "   - Date: September, 1996\n",
        "   - See also: yeast database\n",
        "\n",
        "3. **Past Usage**:\n",
        "   - Reference: \"A Probabilistic Classification System for Predicting the Cellular Localization Sites of Proteins\", Paul Horton & Kenta Nakai, Intelligent Systems in Molecular Biology, 109-115. St. Louis, USA 1996.\n",
        "\n",
        "4. **Number of Instances**: 336 for the E.coli dataset.\n",
        "\n",
        "5. **Number of Attributes**: 8 (7 predictive, 1 name).\n",
        "\n",
        "6. **Attribute Information**:\n",
        "   - Sequence Name: Accession number for the SWISS-PROT database.\n",
        "   - mcg: McGeoch's method for signal sequence recognition.\n",
        "   - gvh: von Heijne's method for signal sequence recognition.\n",
        "   - lip: von Heijne's Signal Peptidase II consensus sequence score.\n",
        "   - chg: Presence of charge on N-terminus of predicted lipoproteins.\n",
        "   - aac: Score of discriminant analysis of the amino acid content of outer membrane and periplasmic proteins.\n",
        "   - alm1: Score of the ALOM membrane spanning region prediction program.\n",
        "   - alm2: Score of ALOM program after excluding putative cleavable signal regions from the sequence.\n",
        "\n",
        "7. **Missing Attribute Values**: None.\n",
        "\n",
        "8. **Class Distribution**: The class is the localization site.\n",
        "   - cp (cytoplasm) - 143\n",
        "   - im (inner membrane without signal sequence) - 77\n",
        "   - pp (perisplasm) - 52\n",
        "   - imU (inner membrane, uncleavable signal sequence) - 35\n",
        "   - om (outer membrane) - 20\n",
        "   - omL (outer membrane lipoprotein) - 5\n",
        "   - imL (inner membrane lipoprotein) - 2\n",
        "   - imS (inner membrane, cleavable signal sequence) - 2"
      ],
      "metadata": {
        "id": "k7ujlGsP9TZy"
      }
    },
    {
      "cell_type": "code",
      "source": [
        "# Define the file path and column names\n",
        "filename = \"/content/drive/MyDrive/machine_learning/ecoli/ecoli.data\"\n",
        "columns = ['Sequence Name', 'mcg', 'gvh', 'lip', 'chg', 'aac', 'alm1', 'alm2', 'class']\n",
        "\n",
        "# Load the dataset into a pandas DataFrame\n",
        "ecoli = pd.read_csv(filename, sep='\\s+', names=columns)\n"
      ],
      "metadata": {
        "id": "7_ZiDZQrWta2"
      },
      "execution_count": null,
      "outputs": []
    },
    {
      "cell_type": "markdown",
      "source": [
        "### **Data Preprocessing 1**\n",
        "* Check for missing values.\n",
        "* Ensure all features have the correct data type.\n",
        "* Remove the sequence name because it is unique in all instances and does not help in predicting or clustering.\n",
        "* Split the features from the labels. Features are an (m x n) array where m is the number of instances and n is the number of features. Labels are flattened to a 1D array.\n",
        "* Standardize the dataset."
      ],
      "metadata": {
        "id": "AyVOCIgYE1c5"
      }
    },
    {
      "cell_type": "code",
      "source": [
        "# Check for missing values\n",
        "missing_values = ecoli.isnull().sum()\n",
        "print(\"Missing values in each column\")\n",
        "print(30 * \"_ \")\n",
        "print(missing_values)"
      ],
      "metadata": {
        "colab": {
          "base_uri": "https://localhost:8080/"
        },
        "id": "EvgLxUFVNouH",
        "outputId": "2fa039da-573e-4b7f-f391-26fd675fcf0c"
      },
      "execution_count": null,
      "outputs": [
        {
          "output_type": "stream",
          "name": "stdout",
          "text": [
            "Missing values in each column\n",
            "_ _ _ _ _ _ _ _ _ _ _ _ _ _ _ _ _ _ _ _ _ _ _ _ _ _ _ _ _ _ \n",
            "Sequence Name    0\n",
            "mcg              0\n",
            "gvh              0\n",
            "lip              0\n",
            "chg              0\n",
            "aac              0\n",
            "alm1             0\n",
            "alm2             0\n",
            "class            0\n",
            "dtype: int64\n"
          ]
        }
      ]
    },
    {
      "cell_type": "code",
      "source": [
        "# Ensure all features have the correct data type\n",
        "print(\"\\nCheck data type\")\n",
        "print(30 * \"_ \")\n",
        "ecoli.info()"
      ],
      "metadata": {
        "colab": {
          "base_uri": "https://localhost:8080/"
        },
        "id": "0GzSA2q3EwT6",
        "outputId": "673f72af-ed82-4f6a-a68c-1274123c1722"
      },
      "execution_count": null,
      "outputs": [
        {
          "output_type": "stream",
          "name": "stdout",
          "text": [
            "\n",
            "Check data type\n",
            "_ _ _ _ _ _ _ _ _ _ _ _ _ _ _ _ _ _ _ _ _ _ _ _ _ _ _ _ _ _ \n",
            "<class 'pandas.core.frame.DataFrame'>\n",
            "RangeIndex: 336 entries, 0 to 335\n",
            "Data columns (total 9 columns):\n",
            " #   Column         Non-Null Count  Dtype  \n",
            "---  ------         --------------  -----  \n",
            " 0   Sequence Name  336 non-null    object \n",
            " 1   mcg            336 non-null    float64\n",
            " 2   gvh            336 non-null    float64\n",
            " 3   lip            336 non-null    float64\n",
            " 4   chg            336 non-null    float64\n",
            " 5   aac            336 non-null    float64\n",
            " 6   alm1           336 non-null    float64\n",
            " 7   alm2           336 non-null    float64\n",
            " 8   class          336 non-null    object \n",
            "dtypes: float64(7), object(2)\n",
            "memory usage: 23.8+ KB\n"
          ]
        }
      ]
    },
    {
      "cell_type": "code",
      "source": [
        "# Drop the 'Sequence Name' column as it is unique for each instance and not useful for clustering\n",
        "ecoli.drop(columns=['Sequence Name'], inplace=True)\n",
        "\n",
        "# Split the features and labels\n",
        "# Features are (m x n) array where m is the number of instances and n is the number of features\n",
        "# Labels are flattened to a 1D array\n",
        "data = ecoli.iloc[:, :-1]\n",
        "labels = ecoli.iloc[:, -1].values.flatten()\n",
        "\n",
        "# Print the shape of the data and the number of unique classes\n",
        "(n_samples, n_features), n_classes = data.shape, np.unique(labels).size\n",
        "print(f\"# n_classes: {n_classes}; # samples: {n_samples}; # features {n_features}\")"
      ],
      "metadata": {
        "colab": {
          "base_uri": "https://localhost:8080/"
        },
        "id": "B_jYn2uIN0C3",
        "outputId": "878510dc-739d-46b7-eb92-a2d9e5c90e2a"
      },
      "execution_count": null,
      "outputs": [
        {
          "output_type": "stream",
          "name": "stdout",
          "text": [
            "# n_classes: 8; # samples: 336; # features 7\n"
          ]
        }
      ]
    },
    {
      "cell_type": "markdown",
      "source": [
        "## Benchmark Function"
      ],
      "metadata": {
        "id": "KAxSVqizOx31"
      }
    },
    {
      "cell_type": "code",
      "source": [
        "def bench_clustering(cluster, name, data, labels):\n",
        "    \"\"\"Benchmark to evaluate the KMeans initialization methods.\n",
        "\n",
        "    Parameters\n",
        "    ----------\n",
        "    cluster : cluster instance\n",
        "        A :class:`~sklearn.cluster` instance with the initialization\n",
        "        already set.\n",
        "    name : str\n",
        "        Name given to the strategy. It will be used to show the results in a\n",
        "        table.\n",
        "    data : ndarray of shape (n_samples, n_features)\n",
        "        The data to cluster.\n",
        "    labels : ndarray of shape (n_samples,)\n",
        "        The labels used to compute the clustering metrics which requires some\n",
        "        supervision.\n",
        "    \"\"\"\n",
        "    t0 = time()\n",
        "    estimator = make_pipeline(StandardScaler(), cluster).fit(data)\n",
        "    fit_time = time() - t0\n",
        "    if name.split(' ')[0] == 'Agglo':\n",
        "      results = [name, fit_time]\n",
        "    else:\n",
        "      results = [name, fit_time, estimator[-1].inertia_]\n",
        "\n",
        "    # Define the metrics which require only the true labels and estimator\n",
        "    # labels\n",
        "    clustering_metrics = [\n",
        "        metrics.fowlkes_mallows_score,\n",
        "    ]\n",
        "    results += [m(labels, estimator[-1].labels_) for m in clustering_metrics]\n",
        "\n",
        "    # Display results\n",
        "    if name.split(' ')[0] == 'Agglo':\n",
        "      formatter_result = (\n",
        "          \"{:9s}\\t{:.3f}\\t{:.3f}\"\n",
        "      )#\\t{:.3f}\n",
        "    else:\n",
        "            formatter_result = (\n",
        "          \"{:9s}\\t{:.3f}s\\t{:.0f}\\t{:.3f}\"\n",
        "      )\n",
        "    print(formatter_result.format(*results))\n"
      ],
      "metadata": {
        "id": "uYfjNpbaCsWM"
      },
      "execution_count": null,
      "outputs": []
    },
    {
      "cell_type": "markdown",
      "source": [
        "\n",
        "### **KMeans Clustering Implementation**\n",
        "> There are two different KMeans clustering implementations. The parameters set are:\n",
        "\n",
        "* `init`: Method for initialization (e.g., 'k-means++', 'random')\n",
        "* `n_clusters`: Number of clusters to form\n",
        "* `n_init`: Number of time the k-means algorithm will be run with different centroid seeds\n",
        "* `random_state`: Determines random number generation for centroid initialization\n",
        "\n",
        "The major difference between both implementations is the `init` method used. We then try different `n_init` parameters to observe how different `n_init` values affect the results in both implementations.\n",
        "\n",
        "* The number of classes determines the number of clusters.\n",
        "\n",
        "**Evaluation Metric**: Fowlkes-Mallows scores"
      ],
      "metadata": {
        "id": "cmrWbIHoLEpU"
      }
    },
    {
      "cell_type": "code",
      "source": [
        "def kmeans_clustering(n_classes, data, labels, init_numbers):\n",
        "    \"\"\"Perform KMeans clustering with different initialization methods.\"\"\"\n",
        "    for n_init in init_numbers:\n",
        "        print(f\"n_init: {n_init}\")\n",
        "        print(120 * \"_\")\n",
        "        print(\"init\\t\\ttime\\tinertia\\tFMI\")\n",
        "\n",
        "        # KMeans with k-means++ initialization\n",
        "        kmeans = KMeans(init=\"k-means++\", n_clusters=n_classes, n_init=n_init, random_state=0)\n",
        "        bench_clustering(cluster=kmeans, name=\"k-means++\", data=data, labels=labels)\n",
        "\n",
        "        # KMeans with random initialization\n",
        "        kmeans = KMeans(init=\"random\", n_clusters=n_classes, n_init=n_init, random_state=0)\n",
        "        bench_clustering(cluster=kmeans, name=\"random\", data=data, labels=labels)\n",
        "\n",
        "        print(120 * \"_\")\n",
        "\n"
      ],
      "metadata": {
        "id": "5B6bMhIjDzu0"
      },
      "execution_count": null,
      "outputs": []
    },
    {
      "cell_type": "markdown",
      "source": [
        "### **Agglomerative Clustering Implementation**\n",
        "> There are four different Agglomerative Clustering implementations with three set parameters:\n",
        "\n",
        "* `n_clusters`\n",
        "* `metrics`\n",
        "* `linkage`\n",
        "\n",
        "All parameters except `linkage` remain the same in all implementations to observe how different linkage methods affect the results.\n",
        "\n",
        "* The linkage parameters tested: 'ward', 'single', 'complete', 'average'.\n",
        "* The Agglomerative metric used: 'euclidean'.\n",
        "* The number of classes determines the number of clusters.\n",
        "\n",
        "**Evaluation Metric**: Fowlkes-Mallows scores"
      ],
      "metadata": {
        "id": "ZKDdscxpJLU4"
      }
    },
    {
      "cell_type": "code",
      "source": [
        "def agglomerative(n_classes, data, labels):\n",
        "    \"\"\"Perform Agglomerative Clustering with different linkage methods.\"\"\"\n",
        "    print(120 * \"_\")\n",
        "    print(\"init\\t\\ttime\\tFMI\")\n",
        "\n",
        "    # Agglomerative Clustering with ward linkage\n",
        "    aggloward = AgglomerativeClustering(n_clusters=n_classes, metric='euclidean', linkage='ward')\n",
        "    bench_clustering(cluster=aggloward, name=\"Agglo ward\", data=data, labels=labels)\n",
        "\n",
        "    # Agglomerative Clustering with single linkage\n",
        "    agglosingle = AgglomerativeClustering(n_clusters=n_classes, metric='euclidean', linkage='single')\n",
        "    bench_clustering(cluster=agglosingle, name=\"Agglo single\", data=data, labels=labels)\n",
        "\n",
        "    # Agglomerative Clustering with complete linkage\n",
        "    agglocomplete = AgglomerativeClustering(n_clusters=n_classes, metric='euclidean', linkage='complete')\n",
        "    bench_clustering(cluster=agglocomplete, name=\"Agglo complete\", data=data, labels=labels)\n",
        "\n",
        "    # Agglomerative Clustering with average linkage\n",
        "    aggloaverage = AgglomerativeClustering(n_clusters=n_classes, metric='euclidean', linkage='average')\n",
        "    bench_clustering(cluster=aggloaverage, name=\"Agglo average\", data=data, labels=labels)\n",
        "\n",
        "    print(120 * \"_\")\n",
        "\n"
      ],
      "metadata": {
        "id": "-DVAzS3vJKBR"
      },
      "execution_count": null,
      "outputs": []
    },
    {
      "cell_type": "markdown",
      "source": [
        "### **Clustering including highly under-represented classes**"
      ],
      "metadata": {
        "id": "eWkxXhycQuLV"
      }
    },
    {
      "cell_type": "markdown",
      "source": [
        "### kmeans clustering"
      ],
      "metadata": {
        "id": "CHqB1pTrRTLt"
      }
    },
    {
      "cell_type": "code",
      "source": [
        "# Perform KMeans clustering with different n_init values\n",
        "kmeans_clustering(n_classes, data, labels, [1, 2, 3, 14])"
      ],
      "metadata": {
        "colab": {
          "base_uri": "https://localhost:8080/"
        },
        "id": "uTXfmXDqT2vW",
        "outputId": "35044f3a-f3a4-498f-ecf7-eefdd65b109e"
      },
      "execution_count": null,
      "outputs": [
        {
          "output_type": "stream",
          "name": "stdout",
          "text": [
            "n_init: 1\n",
            "________________________________________________________________________________________________________________________\n",
            "init\t\ttime\tinertia\tFMI\n",
            "k-means++\t0.261s\t560\t0.558\n",
            "random   \t0.074s\t870\t0.539\n",
            "________________________________________________________________________________________________________________________\n",
            "n_init: 2\n",
            "________________________________________________________________________________________________________________________\n",
            "init\t\ttime\tinertia\tFMI\n",
            "k-means++\t0.091s\t560\t0.558\n",
            "random   \t0.028s\t796\t0.534\n",
            "________________________________________________________________________________________________________________________\n",
            "n_init: 3\n",
            "________________________________________________________________________________________________________________________\n",
            "init\t\ttime\tinertia\tFMI\n",
            "k-means++\t0.036s\t527\t0.639\n",
            "random   \t0.018s\t796\t0.534\n",
            "________________________________________________________________________________________________________________________\n",
            "n_init: 14\n",
            "________________________________________________________________________________________________________________________\n",
            "init\t\ttime\tinertia\tFMI\n",
            "k-means++\t0.237s\t525\t0.616\n",
            "random   \t0.090s\t794\t0.574\n",
            "________________________________________________________________________________________________________________________\n"
          ]
        }
      ]
    },
    {
      "cell_type": "markdown",
      "source": [
        "n_init 1 had the best FMI score for k-mean++ which indicates agreement between clusters, whereas both n_init 1 and n_init 2 for random had the same values which were the best out of all n_init values for random. However kmean++ performed better"
      ],
      "metadata": {
        "id": "usUe-6RZc_jH"
      }
    },
    {
      "cell_type": "markdown",
      "source": [
        "### agglomerative clustering"
      ],
      "metadata": {
        "id": "wYs_bMolRPmY"
      }
    },
    {
      "cell_type": "code",
      "source": [
        "agglomerative(n_classes,data,labels)"
      ],
      "metadata": {
        "colab": {
          "base_uri": "https://localhost:8080/"
        },
        "id": "qz7a4DWDfHZV",
        "outputId": "1063e4a4-9c5a-4185-ba01-722f88c61da8"
      },
      "execution_count": null,
      "outputs": [
        {
          "output_type": "stream",
          "name": "stdout",
          "text": [
            "________________________________________________________________________________________________________________________\n",
            "init\t\ttime\tFMI\n",
            "Agglo ward\t0.046\t0.635\n",
            "Agglo single\t0.021\t0.529\n",
            "Agglo complete\t0.020\t0.829\n",
            "Agglo average\t0.040\t0.706\n",
            "________________________________________________________________________________________________________________________\n"
          ]
        }
      ]
    },
    {
      "cell_type": "markdown",
      "source": [
        "agglomerative clustering with complete linkage has the best FMI score"
      ],
      "metadata": {
        "id": "JbA5Z9Bogsz_"
      }
    },
    {
      "cell_type": "markdown",
      "source": [
        "## **Clustering excluding highly under-represented classes**"
      ],
      "metadata": {
        "id": "OJq8qsL-Q-oz"
      }
    },
    {
      "cell_type": "markdown",
      "source": [
        "### **Data Preprocessing 2**\n",
        "> Remove under-represented classes"
      ],
      "metadata": {
        "id": "rnrrsm4fIu7P"
      }
    },
    {
      "cell_type": "code",
      "source": [
        "#create a filter to remove  under-represented classes\n",
        "filter = (ecoli['class']=='imL') | (ecoli['class']=='imS') | (ecoli['class']=='omL')\n",
        "#apply filter to data\n",
        "filtered_data = ecoli[~filter]"
      ],
      "metadata": {
        "id": "KUCBt-wNPqRJ"
      },
      "execution_count": null,
      "outputs": []
    },
    {
      "cell_type": "code",
      "source": [
        "#get feature data\n",
        "data = filtered_data.iloc[:,:-1]\n",
        "#get labels\n",
        "labels = filtered_data.iloc[:,-1:].values.flatten()\n",
        "\n",
        "(n_samples, n_features), n_classes = data.shape, np.unique(labels).size\n",
        "print(f\"# n_classes: {n_classes}; # samples: {n_samples}; # features {n_features}\")"
      ],
      "metadata": {
        "colab": {
          "base_uri": "https://localhost:8080/"
        },
        "id": "fYC2CkKFQ6cH",
        "outputId": "8799d6da-9984-4e63-9154-a10c46d47593"
      },
      "execution_count": null,
      "outputs": [
        {
          "output_type": "stream",
          "name": "stdout",
          "text": [
            "# n_classes: 5; # samples: 327; # features 7\n"
          ]
        }
      ]
    },
    {
      "cell_type": "markdown",
      "source": [
        "### kmeans clustering"
      ],
      "metadata": {
        "id": "H_jtVQ3yRB1x"
      }
    },
    {
      "cell_type": "code",
      "source": [
        "# Perform KMeans clustering with different n_init values\n",
        "kmeans_clustering(n_classes, data, labels, [1, 2, 3, 10, 12])"
      ],
      "metadata": {
        "colab": {
          "base_uri": "https://localhost:8080/"
        },
        "id": "II2v9Dm9X7uq",
        "outputId": "a5287b5e-79c7-453b-d719-9c7da426c4cb"
      },
      "execution_count": null,
      "outputs": [
        {
          "output_type": "stream",
          "name": "stdout",
          "text": [
            "n_init: 1\n",
            "________________________________________________________________________________________________________________________\n",
            "init\t\ttime\tinertia\tFMI\n",
            "k-means++\t0.027s\t646\t0.780\n",
            "random   \t0.021s\t847\t0.806\n",
            "________________________________________________________________________________________________________________________\n",
            "n_init: 2\n",
            "________________________________________________________________________________________________________________________\n",
            "init\t\ttime\tinertia\tFMI\n",
            "k-means++\t0.038s\t646\t0.780\n",
            "random   \t0.016s\t847\t0.806\n",
            "________________________________________________________________________________________________________________________\n",
            "n_init: 3\n",
            "________________________________________________________________________________________________________________________\n",
            "init\t\ttime\tinertia\tFMI\n",
            "k-means++\t0.032s\t646\t0.779\n",
            "random   \t0.032s\t847\t0.806\n",
            "________________________________________________________________________________________________________________________\n",
            "n_init: 10\n",
            "________________________________________________________________________________________________________________________\n",
            "init\t\ttime\tinertia\tFMI\n",
            "k-means++\t0.149s\t646\t0.779\n",
            "random   \t0.075s\t622\t0.815\n",
            "________________________________________________________________________________________________________________________\n",
            "n_init: 12\n",
            "________________________________________________________________________________________________________________________\n",
            "init\t\ttime\tinertia\tFMI\n",
            "k-means++\t0.112s\t622\t0.811\n",
            "random   \t0.092s\t622\t0.815\n",
            "________________________________________________________________________________________________________________________\n"
          ]
        }
      ]
    },
    {
      "cell_type": "markdown",
      "source": [
        "### agglomerative clustering"
      ],
      "metadata": {
        "id": "_tv1HTpXRJWF"
      }
    },
    {
      "cell_type": "code",
      "source": [
        "agglomerative(n_classes,data,labels)"
      ],
      "metadata": {
        "colab": {
          "base_uri": "https://localhost:8080/"
        },
        "id": "8fytrDAkUTOR",
        "outputId": "050cc471-6a88-4455-bfd0-1e0689da34b2"
      },
      "execution_count": null,
      "outputs": [
        {
          "output_type": "stream",
          "name": "stdout",
          "text": [
            "________________________________________________________________________________________________________________________\n",
            "init\t\ttime\tFMI\n",
            "Agglo ward\t0.024\t0.819\n",
            "Agglo single\t0.016\t0.532\n",
            "Agglo complete\t0.023\t0.762\n",
            "Agglo average\t0.026\t0.814\n",
            "________________________________________________________________________________________________________________________\n"
          ]
        }
      ]
    },
    {
      "cell_type": "markdown",
      "source": [
        "agglomerative clustering with ward linkage had the best FMI score"
      ],
      "metadata": {
        "id": "SNs2z167fnpR"
      }
    },
    {
      "cell_type": "markdown",
      "source": [
        "## Clustering Comparisons Summary"
      ],
      "metadata": {
        "id": "vWa67myWhtCk"
      }
    },
    {
      "cell_type": "markdown",
      "source": [
        "**KMeans Clustering**:\n",
        "- **Initialization Methods**: Two different initialization methods were tested: 'k-means++' and 'random'.\n",
        "- **n_init Values**: Various `n_init` values were tested to observe their impact on the results.\n",
        "- **Evaluation Metric**: Fowlkes-Mallows Index (FMI) scores were used to evaluate the clustering performance.\n",
        "- **Results**:\n",
        "  - The 'k-means++' initialization generally performed better than the 'random' initialization.\n",
        "  - The best FMI score for 'k-means++' was achieved with `n_init = 1`, indicating good agreement between clusters.\n",
        "  - For 'random' initialization, the best FMI scores were observed with `n_init = 1` and `n_init = 2`.\n",
        "\n",
        "**Agglomerative Clustering**:\n",
        "- **Linkage Methods**: Four different linkage methods were tested: 'ward', 'single', 'complete', and 'average'.\n",
        "- **Metric**: The 'euclidean' metric was used for all linkage methods.\n",
        "- **Evaluation Metric**: Fowlkes-Mallows Index (FMI) scores were used to evaluate the clustering performance.\n",
        "- **Results**:\n",
        "  - The 'complete' linkage method achieved the highest FMI score when including highly under-represented classes.\n",
        "  - The 'ward' linkage method achieved the highest FMI score when excluding highly under-represented classes.\n",
        "\n",
        "**Overall**:\n",
        "- **Agglomerative Clustering**: Performed better than both KMeans implementations based on FMI scores, both when including and excluding under-represented classes.\n"
      ],
      "metadata": {
        "id": "7wyIKEsFhrqy"
      }
    }
  ]
}