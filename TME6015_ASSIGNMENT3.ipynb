{
  "nbformat": 4,
  "nbformat_minor": 0,
  "metadata": {
    "colab": {
      "provenance": [],
      "mount_file_id": "1PTAASd9LLTbJSMENUnoVULNYsfygMVDQ",
      "authorship_tag": "ABX9TyMvzFETmZ6asKXiuRpw9k4E",
      "include_colab_link": true
    },
    "kernelspec": {
      "name": "python3",
      "display_name": "Python 3"
    },
    "language_info": {
      "name": "python"
    }
  },
  "cells": [
    {
      "cell_type": "markdown",
      "metadata": {
        "id": "view-in-github",
        "colab_type": "text"
      },
      "source": [
        "<a href=\"https://colab.research.google.com/github/dhaev/Machine-Learning/blob/main/TME6015_ASSIGNMENT3.ipynb\" target=\"_parent\"><img src=\"https://colab.research.google.com/assets/colab-badge.svg\" alt=\"Open In Colab\"/></a>"
      ]
    },
    {
      "cell_type": "markdown",
      "source": [
        "### **David Abodunrin**\n",
        "### **3736201**\n",
        "### **TME6015 ASSIGNMENT 3**\n",
        "### **KMeans and Agglomerative clustering**"
      ],
      "metadata": {
        "id": "gGC4RevWRgo1"
      }
    },
    {
      "cell_type": "code",
      "source": [],
      "metadata": {
        "id": "weIFL1_pRgKy"
      },
      "execution_count": 72,
      "outputs": []
    },
    {
      "cell_type": "code",
      "source": [],
      "metadata": {
        "id": "oE1MLdwDRf-2"
      },
      "execution_count": 72,
      "outputs": []
    },
    {
      "cell_type": "code",
      "execution_count": 73,
      "metadata": {
        "id": "qeQMzSTJL0p6"
      },
      "outputs": [],
      "source": [
        "import pandas as pd\n",
        "import numpy as np\n",
        "import sklearn\n",
        "from sklearn.cluster import KMeans\n",
        "from sklearn.cluster import AgglomerativeClustering\n",
        "from sklearn import metrics\n",
        "from sklearn.pipeline import make_pipeline\n",
        "from sklearn.preprocessing import StandardScaler\n",
        "from time import time"
      ]
    },
    {
      "cell_type": "markdown",
      "source": [
        "### **Dataset**\n",
        "> This assignment will make use of an imbalance dataset reffered to as 'Ecoli' or 'Protein Localization Sites' dataset from UCI repository \"https://archive.ics.uci.edu/dataset/39/ecoli\". We will first perform clustering with the highly under-represented classes and then perform clustering after removing the highly under-represented classes from the dataset\n",
        "\n",
        "1. Title: Ecoli(Protein Localization Sites).\n",
        "\n",
        "2. Creator and Maintainer:\n",
        "\t     Kenta Nakai\n",
        "             Institue of Molecular and Cellular Biology\n",
        "\t     Osaka, University\n",
        "\t     1-3 Yamada-oka, Suita 565 Japan\n",
        "\t     nakai@imcb.osaka-u.ac.jp\n",
        "             http://www.imcb.osaka-u.ac.jp/nakai/psort.html\n",
        "   Donor: Paul Horton (paulh@cs.berkeley.edu)\n",
        "   Date:  September, 1996\n",
        "   See also: yeast database\n",
        "\n",
        "3. Past Usage.\n",
        "Reference: \"A Probablistic Classification System for Predicting the Cellular\n",
        "           Localization Sites of Proteins\", Paul Horton & Kenta Nakai,\n",
        "           Intelligent Systems in Molecular Biology, 109-115.\n",
        "\t   St. Louis, USA 1996.\n",
        "\n",
        "4. Number of Instances:  336 for the E.coli dataset and\n",
        "\n",
        "5. Number of Attributes: 8 ( 7 predictive, 1 name )\n",
        "\t     \n",
        "6. Attribute Information.\n",
        "\n",
        "> *  Sequence Name: Accession number for the SWISS-PROT database.\n",
        "*  mcg: McGeoch's method for signal sequence recognition.\n",
        "*  gvh: von Heijne's method for signal sequence recognition.\n",
        "*  lip: von Heijne's Signal Peptidase II consensus sequence score.\n",
        "*  chg: Presence of charge on N-terminus of predicted lipoproteins.\n",
        "*  aac: score of discriminant analysis of the amino acid content of outer membrane and periplasmic proteins.\n",
        "* alm1: score of the ALOM membrane spanning region prediction program.\n",
        "* alm2: score of ALOM program after excluding putative cleavable signal regions from the sequence.\n",
        "\n",
        "7. Missing Attribute Values: None.\n",
        "\n",
        "\n",
        "8. Class Distribution. The class is the localization site.\n",
        "\n",
        "> * cp  (cytoplasm) -                                   143\n",
        "*   im  (inner membrane without signal sequence) -       77               \n",
        "*   pp  (perisplasm)  -                                  52\n",
        "*   imU (inner membrane, uncleavable signal sequence) -  35\n",
        "*   om  (outer membrane) -                               20\n",
        "*   omL (outer membrane lipoprotein) -                    5\n",
        "*   imL (inner membrane lipoprotein) -                    2\n",
        "*   imS (inner membrane, cleavable signal sequence) -     2\n",
        "\n"
      ],
      "metadata": {
        "id": "k7ujlGsP9TZy"
      }
    },
    {
      "cell_type": "code",
      "source": [
        "filename= \"/content/drive/MyDrive/TME_6015/Assignment_3/ecoli/ecoli.data\"\n",
        "columns = ['Sequence Name','mcg','gvh', 'lip', 'chg', 'aac', 'alm1', 'alm2', 'class']\n",
        "ecoli = pd.read_csv(filename,delim_whitespace=True, names=columns)\n",
        "\n"
      ],
      "metadata": {
        "id": "7_ZiDZQrWta2"
      },
      "execution_count": 74,
      "outputs": []
    },
    {
      "cell_type": "markdown",
      "source": [
        "\n",
        "### **Data Preprocessing 1**\n",
        "> * check for missing values\n",
        "*Ensure all features have the right correct data type\n",
        "* The sequence name is removed because it is unique in all instance and does not help in predicting or clustering\n",
        "* split the features from the labels. featureas are (m x n) array where m is number of instances and n is number of features. labels is flattened to a 1d array\n",
        "* standardize dataset\n"
      ],
      "metadata": {
        "id": "AyVOCIgYE1c5"
      }
    },
    {
      "cell_type": "code",
      "source": [
        "len(ecoli['Sequence Name'].unique())\n",
        "ecoli.drop(columns=['Sequence Name'], inplace=True)\n",
        "data = ecoli.iloc[:,:-1]\n",
        "labels = ecoli.iloc[:,-1:].values.flatten()\n",
        "(n_samples, n_features), n_classes = data.shape, np.unique(labels).size\n",
        "print(f\"# n_classes: {n_classes}; # samples: {n_samples}; # features {n_features}\")"
      ],
      "metadata": {
        "colab": {
          "base_uri": "https://localhost:8080/"
        },
        "id": "0GzSA2q3EwT6",
        "outputId": "cbc6669b-3182-47dc-ab64-65698a1385c5"
      },
      "execution_count": 75,
      "outputs": [
        {
          "output_type": "stream",
          "name": "stdout",
          "text": [
            "# n_classes: 8; # samples: 336; # features 7\n"
          ]
        }
      ]
    },
    {
      "cell_type": "code",
      "source": [
        "\n",
        "scaler = StandardScaler()\n",
        "\n",
        "def bench_k_means(kmeans, name, data, labels):\n",
        "    \"\"\"Benchmark to evaluate the KMeans initialization methods.\n",
        "\n",
        "    Parameters\n",
        "    ----------\n",
        "    kmeans : KMeans instance\n",
        "        A :class:`~sklearn.cluster.KMeans` instance with the initialization\n",
        "        already set.\n",
        "    name : str\n",
        "        Name given to the strategy. It will be used to show the results in a\n",
        "        table.\n",
        "    data : ndarray of shape (n_samples, n_features)\n",
        "        The data to cluster.\n",
        "    labels : ndarray of shape (n_samples,)\n",
        "        The labels used to compute the clustering metrics which requires some\n",
        "        supervision.\n",
        "    \"\"\"\n",
        "    t0 = time()\n",
        "    estimator = make_pipeline(StandardScaler(), kmeans).fit(data)\n",
        "    fit_time = time() - t0\n",
        "    if name.split(' ')[0] == 'Agglo':\n",
        "      results = [name, fit_time]\n",
        "    else:\n",
        "      results = [name, fit_time, estimator[-1].inertia_]\n",
        "\n",
        "    # Define the metrics which require only the true labels and estimator\n",
        "    # labels\n",
        "    clustering_metrics = [\n",
        "        metrics.fowlkes_mallows_score,\n",
        "    ]\n",
        "    results += [m(labels, estimator[-1].labels_) for m in clustering_metrics]\n",
        "\n",
        "    # The silhouette score requires the full dataset\n",
        "    data = scaler.fit_transform(data)\n",
        "\n",
        "    # Show the results\n",
        "    if name.split(' ')[0] == 'Agglo':\n",
        "      formatter_result = (\n",
        "          \"{:9s}\\t{:.3f}\\t{:.3f}\"\n",
        "      )#\\t{:.3f}\n",
        "    else:\n",
        "            formatter_result = (\n",
        "          \"{:9s}\\t{:.3f}s\\t{:.0f}\\t{:.3f}\"\n",
        "      )\n",
        "    print(formatter_result.format(*results))\n"
      ],
      "metadata": {
        "id": "uYfjNpbaCsWM"
      },
      "execution_count": 76,
      "outputs": []
    },
    {
      "cell_type": "markdown",
      "source": [
        "### **Kmeans Clustering Implementation**\n",
        "> There are 2 different Kmeans Clustering implemented.The parameters set are\n",
        "\n",
        "* init\n",
        "* n_clusters\n",
        "* n_init=n_init\n",
        "* random_state\n",
        "\n",
        "The major difference between both implementation is the init method used.\n",
        "We then try different n_init parameters to observe how different n_init values affect the results in both implementation.\n",
        "\n",
        "* The number of classes determines the number of clusters\n",
        "\n",
        "Evaluation metric = Fowlkes-Mallows scores\n"
      ],
      "metadata": {
        "id": "cmrWbIHoLEpU"
      }
    },
    {
      "cell_type": "code",
      "source": [
        "def kmeans_clustering(n_classes,data,labels,init_numbers):\n",
        "  for n_init in init_numbers:\n",
        "    print(f\"n_init : {n_init}\")\n",
        "    print(120 * \"_\")\n",
        "    print(\"init\\t\\ttime\\tinertia\\tFMI\")\n",
        "\n",
        "    kmeans = KMeans(init=\"k-means++\", n_clusters=n_classes, n_init=n_init, random_state=0)\n",
        "    bench_k_means(kmeans=kmeans, name=\"k-means++\", data=data, labels=labels)\n",
        "\n",
        "    kmeans = KMeans(init=\"random\", n_clusters=n_classes, n_init=n_init, random_state=0)\n",
        "    bench_k_means(kmeans=kmeans, name=\"random\", data=data, labels=labels)\n",
        "    print(120 * \"_\")\n"
      ],
      "metadata": {
        "id": "5B6bMhIjDzu0"
      },
      "execution_count": 77,
      "outputs": []
    },
    {
      "cell_type": "markdown",
      "source": [
        "### **Agglomerative Clustering Implementation**\n",
        "> There are 4 different agglomerative Clustering implemented with three set parameters which are\n",
        "\n",
        "\n",
        "*   n_clusters\n",
        "*   metrics\n",
        "*   linkage\n",
        "\n",
        "All parameters except linkage remains the same in all implementation to observe how different linkage affects the result.\n",
        "\n",
        "> * The linkage parameters tested: 'ward', 'single', 'complete', 'average'.\n",
        "* The metric used: 'euclidean'\n",
        "* The number of classes determines the number of clusters\n",
        "\n",
        "Evaluation metric = Fowlkes-Mallows scores\n"
      ],
      "metadata": {
        "id": "ZKDdscxpJLU4"
      }
    },
    {
      "cell_type": "code",
      "source": [
        "def agglomerative(n_classes,data,labels):\n",
        "  # Apply Agglomerative Clustering\n",
        "  print(120 * \"_\")\n",
        "  print(\"init\\t\\ttime\\tFMI\")\n",
        "  aggloward = AgglomerativeClustering(n_clusters=n_classes, metric='euclidean', linkage='ward')\n",
        "  bench_k_means(kmeans=aggloward, name=\"Agglo ward\", data=data, labels=labels)\n",
        "\n",
        "  agglosingle = AgglomerativeClustering(n_clusters=n_classes, metric='euclidean', linkage='single')\n",
        "  bench_k_means(kmeans=agglosingle, name=\"Agglo single\", data=data, labels=labels)\n",
        "\n",
        "  agglocomplete = AgglomerativeClustering(n_clusters=n_classes, metric='euclidean', linkage='complete')\n",
        "  bench_k_means(kmeans=agglocomplete, name=\"Agglo complete\", data=data, labels=labels)\n",
        "\n",
        "  aggloaverage = AgglomerativeClustering(n_clusters=n_classes, metric='euclidean', linkage='average')\n",
        "  bench_k_means(kmeans=aggloaverage, name=\"Agglo average\", data=data, labels=labels)\n",
        "  print(120 * \"_\")"
      ],
      "metadata": {
        "id": "-DVAzS3vJKBR"
      },
      "execution_count": 78,
      "outputs": []
    },
    {
      "cell_type": "markdown",
      "source": [
        "### **Clustering including highly under-represented classes**"
      ],
      "metadata": {
        "id": "eWkxXhycQuLV"
      }
    },
    {
      "cell_type": "markdown",
      "source": [
        "### kmeans clustering"
      ],
      "metadata": {
        "id": "CHqB1pTrRTLt"
      }
    },
    {
      "cell_type": "code",
      "source": [
        "kmeans_clustering(n_classes,data,labels,[1,2,3,14])"
      ],
      "metadata": {
        "colab": {
          "base_uri": "https://localhost:8080/"
        },
        "id": "uTXfmXDqT2vW",
        "outputId": "5f22a07f-837a-459c-9101-7fff3da42361"
      },
      "execution_count": 79,
      "outputs": [
        {
          "output_type": "stream",
          "name": "stdout",
          "text": [
            "n_init : 1\n",
            "________________________________________________________________________________________________________________________\n",
            "init\t\ttime\tinertia\tFMI\n",
            "k-means++\t0.013s\t571\t0.784\n",
            "random   \t0.007s\t804\t0.584\n",
            "________________________________________________________________________________________________________________________\n",
            "n_init : 2\n",
            "________________________________________________________________________________________________________________________\n",
            "init\t\ttime\tinertia\tFMI\n",
            "k-means++\t0.006s\t525\t0.627\n",
            "random   \t0.009s\t804\t0.584\n",
            "________________________________________________________________________________________________________________________\n",
            "n_init : 3\n",
            "________________________________________________________________________________________________________________________\n",
            "init\t\ttime\tinertia\tFMI\n",
            "k-means++\t0.008s\t525\t0.627\n",
            "random   \t0.005s\t796\t0.581\n",
            "________________________________________________________________________________________________________________________\n",
            "n_init : 14\n",
            "________________________________________________________________________________________________________________________\n",
            "init\t\ttime\tinertia\tFMI\n",
            "k-means++\t0.039s\t525\t0.627\n",
            "random   \t0.017s\t552\t0.564\n",
            "________________________________________________________________________________________________________________________\n"
          ]
        }
      ]
    },
    {
      "cell_type": "markdown",
      "source": [
        "n_init 1 had the best FMI score for k-mean++ which indicates agreement between clusters, whereas both n_init 1 and n_init 2 for random had the same values which were the best out of all n_init values for random. However kmean++ performed better"
      ],
      "metadata": {
        "id": "usUe-6RZc_jH"
      }
    },
    {
      "cell_type": "code",
      "source": [],
      "metadata": {
        "id": "cFfZaffKc-00"
      },
      "execution_count": 79,
      "outputs": []
    },
    {
      "cell_type": "markdown",
      "source": [
        "### agglomerative clustering"
      ],
      "metadata": {
        "id": "wYs_bMolRPmY"
      }
    },
    {
      "cell_type": "code",
      "source": [
        "agglomerative(n_classes,data,labels)"
      ],
      "metadata": {
        "colab": {
          "base_uri": "https://localhost:8080/"
        },
        "id": "qz7a4DWDfHZV",
        "outputId": "3483ae56-8bfa-45f4-ca29-163f84cc01ac"
      },
      "execution_count": 80,
      "outputs": [
        {
          "output_type": "stream",
          "name": "stdout",
          "text": [
            "________________________________________________________________________________________________________________________\n",
            "init\t\ttime\tFMI\n",
            "Agglo ward\t0.009\t0.635\n",
            "Agglo single\t0.005\t0.529\n",
            "Agglo complete\t0.004\t0.829\n",
            "Agglo average\t0.004\t0.706\n",
            "________________________________________________________________________________________________________________________\n"
          ]
        }
      ]
    },
    {
      "cell_type": "markdown",
      "source": [
        "agglomerative clustering with complete linkage has the best FMI score"
      ],
      "metadata": {
        "id": "JbA5Z9Bogsz_"
      }
    },
    {
      "cell_type": "markdown",
      "source": [
        "### **Data Preprocessing 2**\n",
        "> Remove under-represented classes"
      ],
      "metadata": {
        "id": "rnrrsm4fIu7P"
      }
    },
    {
      "cell_type": "code",
      "source": [
        "#create a filter to remove  under-represented classes\n",
        "filter = (ecoli['class']=='imL') | (ecoli['class']=='imS') | (ecoli['class']=='omL')\n",
        "#apply filter to data\n",
        "filtered_data = ecoli[~filter]"
      ],
      "metadata": {
        "id": "KUCBt-wNPqRJ"
      },
      "execution_count": 81,
      "outputs": []
    },
    {
      "cell_type": "code",
      "source": [
        "#get feature data\n",
        "data = filtered_data.iloc[:,:-1]\n",
        "#get labels\n",
        "labels = filtered_data.iloc[:,-1:].values.flatten()\n",
        "\n",
        "(n_samples, n_features), n_classes = data.shape, np.unique(labels).size\n",
        "print(f\"# n_classes: {n_classes}; # samples: {n_samples}; # features {n_features}\")"
      ],
      "metadata": {
        "colab": {
          "base_uri": "https://localhost:8080/"
        },
        "id": "fYC2CkKFQ6cH",
        "outputId": "c31fb713-c8bf-48a0-c929-9418b27ca2a0"
      },
      "execution_count": 82,
      "outputs": [
        {
          "output_type": "stream",
          "name": "stdout",
          "text": [
            "# n_classes: 5; # samples: 327; # features 7\n"
          ]
        }
      ]
    },
    {
      "cell_type": "markdown",
      "source": [
        "## **Clustering excluding highly under-represented classes**"
      ],
      "metadata": {
        "id": "OJq8qsL-Q-oz"
      }
    },
    {
      "cell_type": "markdown",
      "source": [
        "### kmeans clustering"
      ],
      "metadata": {
        "id": "H_jtVQ3yRB1x"
      }
    },
    {
      "cell_type": "code",
      "source": [
        "kmeans_clustering(n_classes,data,labels,[1,2,3,10,12])"
      ],
      "metadata": {
        "colab": {
          "base_uri": "https://localhost:8080/"
        },
        "id": "II2v9Dm9X7uq",
        "outputId": "9ca8aa99-84dc-483a-91ba-8677f1875874"
      },
      "execution_count": 83,
      "outputs": [
        {
          "output_type": "stream",
          "name": "stdout",
          "text": [
            "n_init : 1\n",
            "________________________________________________________________________________________________________________________\n",
            "init\t\ttime\tinertia\tFMI\n",
            "k-means++\t0.010s\t646\t0.783\n",
            "random   \t0.003s\t905\t0.622\n",
            "________________________________________________________________________________________________________________________\n",
            "n_init : 2\n",
            "________________________________________________________________________________________________________________________\n",
            "init\t\ttime\tinertia\tFMI\n",
            "k-means++\t0.005s\t646\t0.779\n",
            "random   \t0.007s\t646\t0.789\n",
            "________________________________________________________________________________________________________________________\n",
            "n_init : 3\n",
            "________________________________________________________________________________________________________________________\n",
            "init\t\ttime\tinertia\tFMI\n",
            "k-means++\t0.012s\t622\t0.809\n",
            "random   \t0.013s\t646\t0.789\n",
            "________________________________________________________________________________________________________________________\n",
            "n_init : 10\n",
            "________________________________________________________________________________________________________________________\n",
            "init\t\ttime\tinertia\tFMI\n",
            "k-means++\t0.015s\t622\t0.809\n",
            "random   \t0.012s\t622\t0.811\n",
            "________________________________________________________________________________________________________________________\n",
            "n_init : 12\n",
            "________________________________________________________________________________________________________________________\n",
            "init\t\ttime\tinertia\tFMI\n",
            "k-means++\t0.024s\t621\t0.813\n",
            "random   \t0.023s\t622\t0.811\n",
            "________________________________________________________________________________________________________________________\n"
          ]
        }
      ]
    },
    {
      "cell_type": "markdown",
      "source": [
        "### agglomerative clustering"
      ],
      "metadata": {
        "id": "_tv1HTpXRJWF"
      }
    },
    {
      "cell_type": "code",
      "source": [
        "agglomerative(n_classes,data,labels)"
      ],
      "metadata": {
        "colab": {
          "base_uri": "https://localhost:8080/"
        },
        "id": "8fytrDAkUTOR",
        "outputId": "614cf589-d078-4eec-972e-f93bf66eaaf6"
      },
      "execution_count": 84,
      "outputs": [
        {
          "output_type": "stream",
          "name": "stdout",
          "text": [
            "________________________________________________________________________________________________________________________\n",
            "init\t\ttime\tFMI\n",
            "Agglo ward\t0.006\t0.819\n",
            "Agglo single\t0.004\t0.532\n",
            "Agglo complete\t0.004\t0.762\n",
            "Agglo average\t0.004\t0.814\n",
            "________________________________________________________________________________________________________________________\n"
          ]
        }
      ]
    },
    {
      "cell_type": "markdown",
      "source": [
        "agglomerative clustering with ward linkage had the best FMI score"
      ],
      "metadata": {
        "id": "SNs2z167fnpR"
      }
    },
    {
      "cell_type": "markdown",
      "source": [
        "## Overall"
      ],
      "metadata": {
        "id": "vWa67myWhtCk"
      }
    },
    {
      "cell_type": "markdown",
      "source": [
        "Agglomerative clustering performed better than both kmeans implementation based on FMI scores when both including or excluding under-represented classes"
      ],
      "metadata": {
        "id": "7wyIKEsFhrqy"
      }
    },
    {
      "cell_type": "code",
      "source": [],
      "metadata": {
        "colab": {
          "base_uri": "https://localhost:8080/"
        },
        "id": "YxUGS-DUfZid",
        "outputId": "2cdb633b-9828-4561-9c2e-e30775206b4f"
      },
      "execution_count": 85,
      "outputs": [
        {
          "output_type": "execute_result",
          "data": {
            "text/plain": [
              "0"
            ]
          },
          "metadata": {},
          "execution_count": 85
        }
      ]
    }
  ]
}